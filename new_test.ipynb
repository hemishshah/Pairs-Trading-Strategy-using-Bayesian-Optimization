{
 "cells": [
  {
   "cell_type": "code",
   "execution_count": 1,
   "metadata": {},
   "outputs": [],
   "source": [
    "import datetime\n",
    "from src.datasource import YahooDataSource\n",
    "from src.utils import find_cointegrated_pairs,get_top_k_pairs"
   ]
  },
  {
   "cell_type": "code",
   "execution_count": 27,
   "metadata": {},
   "outputs": [],
   "source": [
    "# Extract the Data from the Yahoo Data Source\n",
    "start_date = datetime.datetime(2014, 3, 29)\n",
    "end_date = datetime.datetime(2024, 3, 29)\n",
    "tickers  =  [\"GOOGL\",\"GOOG\",\"AAPL\",\"NVDA\",'ITOT', 'ACWI', 'IWV', 'VT', 'VTI','DIA', 'RSP', 'IOO', 'IVV', 'SPY']\n",
    "columns =   [\"High\",\"Close\",\"Low\",\"Volume\"]\n",
    "ds = YahooDataSource(start_date,end_date,tickers,columns)"
   ]
  },
  {
   "cell_type": "code",
   "execution_count": 28,
   "metadata": {},
   "outputs": [],
   "source": [
    "# Get only Close column data\n",
    "df = ds.get_data_by_column_tickers(columns=[\"Close\"],tickers=-1)"
   ]
  },
  {
   "cell_type": "code",
   "execution_count": 29,
   "metadata": {},
   "outputs": [
    {
     "data": {
      "text/html": [
       "<div>\n",
       "<style scoped>\n",
       "    .dataframe tbody tr th:only-of-type {\n",
       "        vertical-align: middle;\n",
       "    }\n",
       "\n",
       "    .dataframe tbody tr th {\n",
       "        vertical-align: top;\n",
       "    }\n",
       "\n",
       "    .dataframe thead th {\n",
       "        text-align: right;\n",
       "    }\n",
       "</style>\n",
       "<table border=\"1\" class=\"dataframe\">\n",
       "  <thead>\n",
       "    <tr style=\"text-align: right;\">\n",
       "      <th></th>\n",
       "      <th>GOOGL_Close</th>\n",
       "      <th>NVDA_Close</th>\n",
       "      <th>IOO_Close</th>\n",
       "      <th>RSP_Close</th>\n",
       "      <th>SPY_Close</th>\n",
       "      <th>ACWI_Close</th>\n",
       "      <th>VT_Close</th>\n",
       "      <th>AAPL_Close</th>\n",
       "      <th>DIA_Close</th>\n",
       "      <th>GOOG_Close</th>\n",
       "      <th>ITOT_Close</th>\n",
       "      <th>IWV_Close</th>\n",
       "      <th>VTI_Close</th>\n",
       "      <th>IVV_Close</th>\n",
       "    </tr>\n",
       "  </thead>\n",
       "  <tbody>\n",
       "    <tr>\n",
       "      <th>0</th>\n",
       "      <td>27.890640</td>\n",
       "      <td>4.243109</td>\n",
       "      <td>31.045824</td>\n",
       "      <td>61.630013</td>\n",
       "      <td>156.286041</td>\n",
       "      <td>47.348732</td>\n",
       "      <td>47.717979</td>\n",
       "      <td>16.884604</td>\n",
       "      <td>133.019073</td>\n",
       "      <td>27.772251</td>\n",
       "      <td>35.801590</td>\n",
       "      <td>95.366776</td>\n",
       "      <td>81.718513</td>\n",
       "      <td>157.057968</td>\n",
       "    </tr>\n",
       "    <tr>\n",
       "      <th>1</th>\n",
       "      <td>28.400652</td>\n",
       "      <td>4.418424</td>\n",
       "      <td>31.161472</td>\n",
       "      <td>62.145073</td>\n",
       "      <td>157.322311</td>\n",
       "      <td>47.690781</td>\n",
       "      <td>48.069862</td>\n",
       "      <td>17.039062</td>\n",
       "      <td>133.594147</td>\n",
       "      <td>28.280355</td>\n",
       "      <td>36.064579</td>\n",
       "      <td>96.190437</td>\n",
       "      <td>82.355698</td>\n",
       "      <td>158.093124</td>\n",
       "    </tr>\n",
       "    <tr>\n",
       "      <th>2</th>\n",
       "      <td>28.405907</td>\n",
       "      <td>4.389994</td>\n",
       "      <td>31.253174</td>\n",
       "      <td>62.389919</td>\n",
       "      <td>157.848816</td>\n",
       "      <td>47.804810</td>\n",
       "      <td>48.141819</td>\n",
       "      <td>17.067373</td>\n",
       "      <td>133.934250</td>\n",
       "      <td>28.272379</td>\n",
       "      <td>36.194019</td>\n",
       "      <td>96.462143</td>\n",
       "      <td>82.615593</td>\n",
       "      <td>158.602371</td>\n",
       "    </tr>\n",
       "    <tr>\n",
       "      <th>3</th>\n",
       "      <td>28.575001</td>\n",
       "      <td>4.437377</td>\n",
       "      <td>31.189379</td>\n",
       "      <td>62.313965</td>\n",
       "      <td>157.639862</td>\n",
       "      <td>47.707081</td>\n",
       "      <td>48.037861</td>\n",
       "      <td>16.949089</td>\n",
       "      <td>133.910004</td>\n",
       "      <td>28.409002</td>\n",
       "      <td>36.156448</td>\n",
       "      <td>96.232925</td>\n",
       "      <td>82.389221</td>\n",
       "      <td>158.452118</td>\n",
       "    </tr>\n",
       "    <tr>\n",
       "      <th>4</th>\n",
       "      <td>27.262501</td>\n",
       "      <td>4.299968</td>\n",
       "      <td>31.033871</td>\n",
       "      <td>61.604694</td>\n",
       "      <td>155.776199</td>\n",
       "      <td>47.356892</td>\n",
       "      <td>47.622017</td>\n",
       "      <td>16.729832</td>\n",
       "      <td>132.727539</td>\n",
       "      <td>27.082645</td>\n",
       "      <td>35.676342</td>\n",
       "      <td>94.925232</td>\n",
       "      <td>81.257408</td>\n",
       "      <td>156.573807</td>\n",
       "    </tr>\n",
       "  </tbody>\n",
       "</table>\n",
       "</div>"
      ],
      "text/plain": [
       "   GOOGL_Close  NVDA_Close  IOO_Close  RSP_Close   SPY_Close  ACWI_Close  \\\n",
       "0    27.890640    4.243109  31.045824  61.630013  156.286041   47.348732   \n",
       "1    28.400652    4.418424  31.161472  62.145073  157.322311   47.690781   \n",
       "2    28.405907    4.389994  31.253174  62.389919  157.848816   47.804810   \n",
       "3    28.575001    4.437377  31.189379  62.313965  157.639862   47.707081   \n",
       "4    27.262501    4.299968  31.033871  61.604694  155.776199   47.356892   \n",
       "\n",
       "    VT_Close  AAPL_Close   DIA_Close  GOOG_Close  ITOT_Close  IWV_Close  \\\n",
       "0  47.717979   16.884604  133.019073   27.772251   35.801590  95.366776   \n",
       "1  48.069862   17.039062  133.594147   28.280355   36.064579  96.190437   \n",
       "2  48.141819   17.067373  133.934250   28.272379   36.194019  96.462143   \n",
       "3  48.037861   16.949089  133.910004   28.409002   36.156448  96.232925   \n",
       "4  47.622017   16.729832  132.727539   27.082645   35.676342  94.925232   \n",
       "\n",
       "   VTI_Close   IVV_Close  \n",
       "0  81.718513  157.057968  \n",
       "1  82.355698  158.093124  \n",
       "2  82.615593  158.602371  \n",
       "3  82.389221  158.452118  \n",
       "4  81.257408  156.573807  "
      ]
     },
     "execution_count": 29,
     "metadata": {},
     "output_type": "execute_result"
    }
   ],
   "source": [
    "df.head(n=5)"
   ]
  },
  {
   "cell_type": "code",
   "execution_count": 30,
   "metadata": {},
   "outputs": [],
   "source": [
    "scores, pvalues, pairs = find_cointegrated_pairs(df)"
   ]
  },
  {
   "cell_type": "code",
   "execution_count": 31,
   "metadata": {},
   "outputs": [],
   "source": [
    "top_pairs = get_top_k_pairs(pairs,1)"
   ]
  },
  {
   "cell_type": "code",
   "execution_count": 32,
   "metadata": {},
   "outputs": [
    {
     "data": {
      "text/plain": [
       "[(('GOOGL_Close', 'GOOG_Close'), 0.0004696405607190053)]"
      ]
     },
     "execution_count": 32,
     "metadata": {},
     "output_type": "execute_result"
    }
   ],
   "source": [
    "top_pairs"
   ]
  },
  {
   "cell_type": "code",
   "execution_count": 33,
   "metadata": {},
   "outputs": [],
   "source": [
    "# Get first pair\n",
    "tickers = ds.get_tickers(top_pairs[0][0])"
   ]
  },
  {
   "cell_type": "code",
   "execution_count": 26,
   "metadata": {},
   "outputs": [],
   "source": [
    "df_all=ds.get_data_by_column_tickers(columns=[\"Close\",\"High\"],tickers=tickers)"
   ]
  },
  {
   "cell_type": "code",
   "execution_count": null,
   "metadata": {},
   "outputs": [],
   "source": []
  }
 ],
 "metadata": {
  "kernelspec": {
   "display_name": ".venv",
   "language": "python",
   "name": "python3"
  },
  "language_info": {
   "codemirror_mode": {
    "name": "ipython",
    "version": 3
   },
   "file_extension": ".py",
   "mimetype": "text/x-python",
   "name": "python",
   "nbconvert_exporter": "python",
   "pygments_lexer": "ipython3",
   "version": "3.11.0"
  }
 },
 "nbformat": 4,
 "nbformat_minor": 2
}
